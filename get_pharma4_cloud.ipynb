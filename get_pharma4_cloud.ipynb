{
 "cells": [
  {
   "cell_type": "markdown",
   "metadata": {},
   "source": [
    "# Rotation 1\n",
    "## pharmacophore-based pose prediction"
   ]
  },
  {
   "cell_type": "markdown",
   "metadata": {},
   "source": [
    "TO DO: \n",
    "\n",
    "- check that now supposed to be no overlap between fragment link and all structures - should i take out structures that are similar to fragments? \n",
    "- clustering\n",
    "- try aligning one query mol to fragment cloud\n",
    "- brute force approach\n",
    "- compare to RANSAC, ICP\n",
    "- quantify\n",
    "- substructure matching"
   ]
  },
  {
   "cell_type": "markdown",
   "metadata": {},
   "source": [
    "### Retrieve SDFs from directory (downloaded from Fragalysis)"
   ]
  },
  {
   "cell_type": "code",
   "execution_count": 1,
   "metadata": {},
   "outputs": [],
   "source": [
    "import os\n",
    "from rdkit import Chem\n",
    "\n",
    "\n",
    "def get_sdfs(dir_name):\n",
    "    \n",
    "    sdf_files = []\n",
    "    filenames = []\n",
    "\n",
    "    # collect sdf files from dirs\n",
    "    for root, dirs, files in os.walk(dir_name):\n",
    "        for file in files:\n",
    "            if file.endswith(\".sdf\"):\n",
    "                # ignore combined sdf file\n",
    "                if 'Mpro_combined' not in file:\n",
    "                    sdf_files.append(os.path.join(root, file))\n",
    "                    filenames.append(file)\n",
    "\n",
    "    return sdf_files, filenames\n"
   ]
  },
  {
   "cell_type": "markdown",
   "metadata": {},
   "source": [
    "### Convert SDFs to rdkit mol objects\n",
    "\n",
    "https://www.rdkit.org/docs/GettingStartedInPython.html"
   ]
  },
  {
   "cell_type": "code",
   "execution_count": 2,
   "metadata": {},
   "outputs": [],
   "source": [
    "# get mol object for each sdf file\n",
    "\n",
    "def sdf_to_mol(sdf_file_list):\n",
    "   \n",
    "   mols = []\n",
    "   for sdf_file in sdf_file_list:\n",
    "      with Chem.SDMolSupplier(sdf_file) as suppl:\n",
    "         for mol in suppl:\n",
    "            if mol is None: continue\n",
    "            mols.append(mol)\n",
    "\n",
    "   return mols\n"
   ]
  },
  {
   "cell_type": "markdown",
   "metadata": {},
   "source": [
    "### Extract pharmacophores and their types and coordinates\n",
    "http://rdkit.blogspot.com/2017/11/using-feature-maps.html "
   ]
  },
  {
   "cell_type": "code",
   "execution_count": 3,
   "metadata": {},
   "outputs": [],
   "source": [
    "# code to generate pharmacophores\n",
    "import numpy as np\n",
    "from rdkit import RDConfig, Chem\n",
    "from rdkit.Chem import AllChem\n",
    "from collections import defaultdict\n",
    "\n",
    "# feature factory defines set of pharmacophore features being used \n",
    "_FEATURES_FACTORY, _FEATURES_NAMES = [], []\n",
    "\n",
    "def get_features_factory(features_names, resetPharmacophoreFactory=False):\n",
    "\n",
    "    global _FEATURES_FACTORY, _FEATURES_NAMES\n",
    "\n",
    "    if resetPharmacophoreFactory or (len(_FEATURES_FACTORY) > 0 and _FEATURES_FACTORY[-1] != features_names):\n",
    "        _FEATURES_FACTORY.pop()\n",
    "       # _FEATURES_FACTORY.pop() # NOTE repeated line?\n",
    "    if len(_FEATURES_FACTORY) == 0:\n",
    "        feature_factory = AllChem.BuildFeatureFactory(os.path.join(RDConfig.RDDataDir, 'BaseFeatures.fdef'))\n",
    "        _FEATURES_NAMES = features_names\n",
    "        if features_names is None:\n",
    "            features_names = list(feature_factory.GetFeatureFamilies())\n",
    "\n",
    "        _FEATURES_FACTORY.extend([feature_factory, features_names])\n",
    "\n",
    "    return _FEATURES_FACTORY"
   ]
  },
  {
   "cell_type": "code",
   "execution_count": 4,
   "metadata": {},
   "outputs": [],
   "source": [
    "# NOTE ask re conformers here vs for query mols\n",
    "\n",
    "def getPharmacophoreCoords(mol, features_names=[\"Acceptor\", \"Donor\", \"Aromatic\"], confId=-1):\n",
    "\n",
    "    # find features of a molecule\n",
    "    feature_factory, keep_featnames = get_features_factory(features_names)\n",
    "    rawFeats = feature_factory.GetFeaturesForMol(mol, confId=confId)\n",
    "    featsDict = defaultdict(list)\n",
    "    idxsDict = defaultdict(list)\n",
    "\n",
    "    for f in rawFeats:\n",
    "        if f.GetFamily() in keep_featnames:\n",
    "            featsDict[f.GetFamily()].append(np.array(f.GetPos(confId=f.GetActiveConformer())))\n",
    "            idxsDict[f.GetFamily()].append(np.array(f.GetAtomIds()))\n",
    "\n",
    "    new_feats_dict = {}\n",
    "    for key in featsDict:\n",
    "        new_feats_dict[key] = np.concatenate(featsDict[key]).reshape((-1,3))\n",
    "    \n",
    "    return new_feats_dict, idxsDict\n"
   ]
  },
  {
   "cell_type": "markdown",
   "metadata": {},
   "source": [
    "Below functions similar but slightly different:\n",
    "- one gets all coordinates for all mols, to collect coordinates for fragment cloud\n",
    "- the second gets coordinates for a single mol which is more useful when dealing with the query molecules"
   ]
  },
  {
   "cell_type": "code",
   "execution_count": 5,
   "metadata": {},
   "outputs": [],
   "source": [
    "# compute pharmacophores coordinates\n",
    "# NOTE should change just to work for one molecule rather than looping through\n",
    "\n",
    "def get_coords(mols):\n",
    "\n",
    "    donor_coords = []\n",
    "    acceptor_coords = []\n",
    "    aromatic_coords = []\n",
    "\n",
    "    for mol in mols:\n",
    "        # .get() will just fill with None if key doesn't exist\n",
    "        pharma_coords, __ = getPharmacophoreCoords(mol)\n",
    "        donor_coord = pharma_coords.get('Donor')\n",
    "        acceptor_coord = pharma_coords.get('Acceptor')\n",
    "        aromatic_coord = pharma_coords.get('Aromatic')\n",
    "\n",
    "        donor_coords.append(donor_coord)\n",
    "        acceptor_coords.append(acceptor_coord)\n",
    "        aromatic_coords.append(aromatic_coord)\n",
    "\n",
    "    # remove None values\n",
    "    donor_coords = [x for x in donor_coords if x is not None]\n",
    "    acceptor_coords = [x for x in acceptor_coords if x is not None]\n",
    "    aromatic_coords = [x for x in aromatic_coords if x is not None]\n",
    "\n",
    "    if len(donor_coords) == 0:\n",
    "        donor_coords = donor_coords\n",
    "    else: \n",
    "        donor_coords = np.concatenate(donor_coords)\n",
    "    \n",
    "    if len(acceptor_coords) == 0:\n",
    "        acceptor_coords = acceptor_coords\n",
    "    else:\n",
    "        acceptor_coords = np.concatenate(acceptor_coords)\n",
    "\n",
    "    if len(aromatic_coords) == 0:\n",
    "        aromatic_coords = aromatic_coords\n",
    "    else:\n",
    "        aromatic_coords = np.concatenate(aromatic_coords)\n",
    "\n",
    "    return donor_coords, acceptor_coords, aromatic_coords\n"
   ]
  },
  {
   "cell_type": "code",
   "execution_count": 6,
   "metadata": {},
   "outputs": [],
   "source": [
    "def get_coords_query(mol):\n",
    "\n",
    "    donor_coords = []\n",
    "    acceptor_coords = []\n",
    "    aromatic_coords = []\n",
    "    \n",
    "    # .get() will just fill with None if key doesn't exist\n",
    "    pharma_coords, __ = getPharmacophoreCoords(mol)\n",
    "    donor_coords = pharma_coords.get('Donor')\n",
    "    acceptor_coords = pharma_coords.get('Acceptor')\n",
    "    aromatic_coords = pharma_coords.get('Aromatic')\n",
    "\n",
    "    # remove None values\n",
    "    if donor_coords is not None:\n",
    "        donor_coords = [x for x in donor_coords if x is not None]\n",
    "        donor_coords = np.concatenate([donor_coords])\n",
    "    if acceptor_coords is not None:\n",
    "        acceptor_coords = [x for x in acceptor_coords if x is not None]\n",
    "        acceptor_coords = np.concatenate([acceptor_coords])\n",
    "    if aromatic_coords is not None:\n",
    "        aromatic_coords = [x for x in aromatic_coords if x is not None]\n",
    "        aromatic_coords = np.concatenate([aromatic_coords])\n",
    "\n",
    "    return donor_coords, acceptor_coords, aromatic_coords"
   ]
  },
  {
   "cell_type": "markdown",
   "metadata": {},
   "source": [
    "### Setting up fragment point cloud"
   ]
  },
  {
   "cell_type": "code",
   "execution_count": 7,
   "metadata": {},
   "outputs": [],
   "source": [
    "import matplotlib.pyplot as plt\n",
    "%matplotlib inline\n",
    "\n",
    "def plot_coords(donor_coords, acceptor_coords, aromatic_coords):\n",
    "    \n",
    "    fig = plt.figure(figsize=(10,10))\n",
    "    ax = plt.axes(projection='3d')\n",
    "\n",
    "    # visualize the 3D cloud of fragment pharmacophores. They are a good representation of the protein pocket.\n",
    "    labels = ['Donor', 'Acceptor', 'Aromatic']\n",
    "    for coords, label in zip([donor_coords, acceptor_coords, aromatic_coords], labels):\n",
    "        if len(coords) != 0:\n",
    "            ax.scatter3D(coords[:,0], coords[:,1], coords[:,2], label=label)\n",
    "\n",
    "    plt.legend()\n",
    "    plt.show()\n",
    "\n",
    "    return"
   ]
  },
  {
   "cell_type": "code",
   "execution_count": 8,
   "metadata": {},
   "outputs": [
    {
     "data": {
      "image/png": "[encoded data removed]",
      "text/plain": [
       "<Figure size 720x720 with 1 Axes>"
      ]
     },
     "metadata": {
      "needs_background": "light"
     },
     "output_type": "display_data"
    },
    {
     "name": "stdout",
     "output_type": "stream",
     "text": [
      "67\n",
      "31\n"
     ]
    }
   ],
   "source": [
    "# run above functions\n",
    "fragment_files, frag_filenames = get_sdfs('Mpro_fragments')\n",
    "frag_mols = sdf_to_mol(fragment_files)\n",
    "frag_donor_coords, frag_acceptor_coords, frag_aromatic_coords = get_coords(frag_mols)\n",
    "plot_coords(frag_donor_coords, frag_acceptor_coords, frag_aromatic_coords)\n",
    "\n",
    "# NOTE ~20 fragments, number of ph4s will obvs be different\n",
    "# like 67 donors, 31 acceptors\n",
    "print(len(frag_donor_coords)) \n",
    "print(len(frag_acceptor_coords))\n"
   ]
  },
  {
   "cell_type": "markdown",
   "metadata": {},
   "source": [
    "- TO DO check against pdb fragments "
   ]
  },
  {
   "cell_type": "markdown",
   "metadata": {},
   "source": [
    "### Setting up query molecules\n",
    "\n",
    "*unfinished*"
   ]
  },
  {
   "cell_type": "markdown",
   "metadata": {},
   "source": [
    "- don't need coords for conformers if testing alignment because removing coords from the query mols anyway to test alignment..\n",
    "- but will still need for ground truth? \n",
    "- do i need to remove query mols that are v similar to fragments? \n",
    "\n",
    "\n",
    "- need ground truth experimental conformer which comes from sdf with coordinates, can remove coordinates and then use for alignment, need ground truth to see performance of alignment algorithm\n",
    "- could generate multiple conformers and see which is the best conformer that aligns with the fragment space, adds additional layer of complexity - ultimately want this for docking (?), test a bunch of conformers and see which aligns the best (e.g. has the most ph4 matches)\n",
    "- for now just use the one conformer (the experimental one) and see how the alignment works\n",
    "- how to align to the fragment cloud without coordinates?  --- would have 'random' coordinates for the conformers generated, so not actually nothing there\n",
    "- would expect any new query molecules given as smiles, so don't have any coordinates"
   ]
  },
  {
   "cell_type": "code",
   "execution_count": 9,
   "metadata": {},
   "outputs": [],
   "source": [
    "# run same functions for query mols - get mol from sdf\n",
    "query_sdfs, query_filenames = get_sdfs('Mpro_query') \n",
    "query_mols = sdf_to_mol(query_sdfs)"
   ]
  },
  {
   "cell_type": "markdown",
   "metadata": {},
   "source": [
    "get conformer(s), get ph4 coords - store mols with and without coords"
   ]
  },
  {
   "cell_type": "code",
   "execution_count": null,
   "metadata": {},
   "outputs": [],
   "source": [
    "# collect query molecules with coords (ground truth, for validation) and without (for running alignment)\n",
    "query_mols_yes_coords = []\n",
    "query_mols_no_coords = []\n",
    "\n",
    "for mol in query_mols:\n",
    "    # gets conformer (only one in sdf file, the experimental one)\n",
    "    mol.GetConformer()\n",
    "    # gets coordinates of conformer\n",
    "    mol.GetConformer().GetPositions()\n",
    "    # run query ph4 code to get ph4 coordinates for ground truth\n",
    "    query_donor_coords, query_acceptor_coords, query_aromatic_coords = get_coords_query(mol)\n",
    "    query_coord_dict = {'Donor': query_donor_coords, 'Acceptor': query_acceptor_coords, 'Aromatic': query_aromatic_coords}\n",
    "    # add dict of ph4 coords to a list for all the query molecules\n",
    "    query_mols_yes_coords.append(query_coord_dict)\n",
    "    # easy way to remove coordinates from the mol\n",
    "    mol_no_cheating = Chem.MolFromSmiles(Chem.MolToSmiles(mol))\n",
    "    # add query mol without coords to list of all queries with no coords\n",
    "    query_mols_no_coords.append(mol_no_cheating)\n",
    "\n",
    "# TODO multiple conformers \n",
    "#get_coords(query_mols.GetConformer().GetPositions())\n",
    "\n",
    "# ignore for now - generating multiple conformers\n",
    "# 'pruneRmsThresh' - can specify to remove similar conformers\n",
    "#Generate conformers\n",
    "\n",
    "#confIds = list(AllChem.EmbedMultipleConfs(mol_no_cheating, numConfs=10, randomSeed=21321, numThreads=2, pruneRmsThresh=1))\n"
   ]
  },
  {
   "cell_type": "markdown",
   "metadata": {},
   "source": [
    "test plotting ph4s of first query molecule below: "
   ]
  },
  {
   "cell_type": "code",
   "execution_count": 10,
   "metadata": {},
   "outputs": [
    {
     "name": "stdout",
     "output_type": "stream",
     "text": [
      "<rdkit.Chem.rdchem.Mol object at 0x7fb35638bb80>\n"
     ]
    },
    {
     "data": {
      "image/png": "[encoded data removed]",
      "text/plain": [
       "<Figure size 720x720 with 1 Axes>"
      ]
     },
     "metadata": {
      "needs_background": "light"
     },
     "output_type": "display_data"
    }
   ],
   "source": [
    "print(query_mols[0])\n",
    "# get ph4 coords for mol\n",
    "query_donor_coords, query_acceptor_coords, query_aromatic_coords = get_coords_query(query_mols[0])\n",
    "\n",
    "# plot\n",
    "fig = plt.figure(figsize=(10,10))\n",
    "ax = plt.axes(projection='3d')\n",
    "\n",
    "labels = ['Donor', 'Acceptor', 'Aromatic']\n",
    "for coords, label in zip([query_donor_coords, query_acceptor_coords, query_aromatic_coords], labels):\n",
    "    if coords is not None:\n",
    "        ax.scatter3D(coords[:,0], coords[:,1], coords[:,2], label=label)\n",
    "\n",
    "plt.legend()\n",
    "plt.show()\n",
    "\n",
    "# NOTE look at how to plot from list of dicts\n"
   ]
  },
  {
   "cell_type": "markdown",
   "metadata": {},
   "source": [
    "### Substructure matching\n",
    "\n",
    "*unfinished* \n",
    "- remove query molecules similar to fragments?\n",
    "- remove query molecules similar to each-other?"
   ]
  },
  {
   "cell_type": "markdown",
   "metadata": {},
   "source": [
    "### Alignment\n",
    "\n",
    "- below using just one query molecule (experimental conformer) and aligning to the pocket points or subsets of pocket point combinations just to test things"
   ]
  },
  {
   "cell_type": "markdown",
   "metadata": {},
   "source": [
    "### RANSAC on one query molecule (query_mols[0]) against ~20 fragments: \n",
    "- registration args need changing but code runs which it didn't before\n",
    "http://www.open3d.org/docs/release/python_api/open3d.pipelines.registration.registration_ransac_based_on_feature_matching.html\n",
    "\n",
    "http://www.open3d.org/docs/0.12.0/python_api/open3d.pipelines.registration.RANSACConvergenceCriteria.html"
   ]
  },
  {
   "cell_type": "code",
   "execution_count": null,
   "metadata": {},
   "outputs": [],
   "source": [
    "# get query and fragment coordinates for different ph4 types\n",
    "query_donor_coords, query_acceptor_coords, query_aromatic_coords = get_coords_query(query_mols[0])\n",
    "frag_donor_coords, frag_acceptor_coords, frag_aromatic_coords = get_coords(frag_mols)\n",
    "\n",
    "import copy\n",
    "\n",
    "import numpy as np\n",
    "import open3d as o3d\n",
    "from open3d import pipelines\n",
    "\n",
    "#preparing data for open3d format\n",
    "pocket_points = np.concatenate([frag_donor_coords, frag_acceptor_coords])\n",
    "nac,ndo= [len(x) for x in [frag_donor_coords, frag_acceptor_coords]]\n",
    "#This features are super simple and we need to consider things like neighbour distances\n",
    "featuresIdxX = np.concatenate([np.zeros(nac)*1,np.ones(ndo)]).astype(np.int32)\n",
    "featuresOneHotX = np.zeros((len(featuresIdxX), 3))\n",
    "featuresOneHotX[np.arange(featuresIdxX.size),featuresIdxX] = 1\n",
    "\n",
    "x_cloud = o3d.geometry.PointCloud()\n",
    "x_cloud.points = o3d.utility.Vector3dVector(pocket_points)\n",
    "x_feats = pipelines.registration.Feature()\n",
    "x_feats.data = featuresOneHotX\n",
    "\n",
    "\n",
    "query_points = np.concatenate([query_donor_coords, query_acceptor_coords])\n",
    "nac,ndo = [len(x) for x in [query_donor_coords, query_acceptor_coords]]\n",
    "featuresIdxQ = np.concatenate([np.zeros(nac)*1,np.ones(ndo)]).astype(np.int32)\n",
    "featuresOneHotQ = np.zeros((len(featuresIdxQ), 3))\n",
    "featuresOneHotQ[np.arange(featuresIdxQ.size),featuresIdxQ] = 1\n",
    "\n",
    "query_cloud = o3d.geometry.PointCloud()\n",
    "query_cloud.points = o3d.utility.Vector3dVector(query_points)\n",
    "q_feats = pipelines.registration.Feature()\n",
    "q_feats.data = featuresOneHotQ\n",
    "\n",
    "distance_threshold = 2.\n",
    "\n",
    "\n",
    "result = o3d.pipelines.registration.registration_ransac_based_on_feature_matching(\n",
    "    query_cloud, x_cloud, q_feats, x_feats, mutual_filter=False, max_correspondence_distance=1.5)\n",
    "\n",
    "\n",
    "print(result)\n",
    "print(result.transformation)\n",
    "\n",
    "transformed_query_cloud = copy.deepcopy(query_cloud)\n",
    "transformed_query_cloud.transform(result.transformation)\n",
    "transformed_query = np.array(transformed_query_cloud.points)\n",
    "\n",
    "fig = plt.figure(figsize=(10,10))\n",
    "ax = plt.axes(projection='3d')\n",
    "ax.scatter3D( query_points[:,0], query_points[:,1], query_points[:,2], label=\"query\", alpha=0.5, c=featuresIdxQ, marker=\"o\", s=100)\n",
    "ax.scatter3D(transformed_query[:,0], transformed_query[:,1], transformed_query[:,2], label=\"query transformed\", alpha=0.5, c=featuresIdxQ, marker=\"x\", s=100)\n",
    "ax.scatter3D(pocket_points[:,0], pocket_points[:,1], pocket_points[:,2], label=\"pocket pharma4s\", alpha=0.3, c=featuresIdxX, marker=\"s\", s=100)\n",
    "plt.legend()\n",
    "plt.show()\n"
   ]
  },
  {
   "cell_type": "markdown",
   "metadata": {},
   "source": [
    "### ICP test\n",
    "\n",
    "try running open3d ICP example code\n",
    "http://www.open3d.org/docs/0.8.0/python_api/open3d.registration.registration_icp.html \n",
    "\n",
    "http://www.open3d.org/docs/latest/tutorial/Basic/icp_registration.html"
   ]
  },
  {
   "cell_type": "code",
   "execution_count": null,
   "metadata": {},
   "outputs": [],
   "source": [
    "#preparing data for open3d format\n",
    "pocket_points = np.concatenate([frag_donor_coords, frag_acceptor_coords])\n",
    "nac,ndo= [len(x) for x in [frag_donor_coords, frag_acceptor_coords]]\n",
    "#This features are super simple and we need to consider things like neighbour distances\n",
    "featuresIdxX = np.concatenate([np.zeros(nac)*1,np.ones(ndo)]).astype(np.int32)\n",
    "featuresOneHotX = np.zeros((len(featuresIdxX), 3))\n",
    "featuresOneHotX[np.arange(featuresIdxX.size),featuresIdxX] = 1\n",
    "\n",
    "x_cloud = o3d.geometry.PointCloud()\n",
    "x_cloud.points = o3d.utility.Vector3dVector(pocket_points)\n",
    "x_feats = pipelines.registration.Feature()\n",
    "x_feats.data = featuresOneHotX\n",
    "\n",
    "\n",
    "query_points = np.concatenate([query_donor_coords, query_acceptor_coords])\n",
    "nac,ndo = [len(x) for x in [query_donor_coords, query_acceptor_coords]]\n",
    "featuresIdxQ = np.concatenate([np.zeros(nac)*1,np.ones(ndo)]).astype(np.int32)\n",
    "featuresOneHotQ = np.zeros((len(featuresIdxQ), 3))\n",
    "featuresOneHotQ[np.arange(featuresIdxQ.size),featuresIdxQ] = 1\n",
    "\n",
    "query_cloud = o3d.geometry.PointCloud()\n",
    "query_cloud.points = o3d.utility.Vector3dVector(query_points)\n",
    "q_feats = pipelines.registration.Feature()\n",
    "q_feats.data = featuresOneHotQ\n",
    "\n",
    "distance_threshold = 2.\n",
    "\n",
    "\n",
    "result = o3d.pipelines.registration.registration_icp(\n",
    "    query_cloud, x_cloud, max_correspondence_distance=1.5)\n",
    "\n",
    "\n",
    "print(result)\n",
    "print(result.transformation)\n",
    "\n",
    "transformed_query_cloud = copy.deepcopy(query_cloud)\n",
    "transformed_query_cloud.transform(result.transformation)\n",
    "transformed_query = np.array(transformed_query_cloud.points)\n",
    "\n",
    "fig = plt.figure(figsize=(10,10))\n",
    "ax = plt.axes(projection='3d')\n",
    "ax.scatter3D( query_points[:,0], query_points[:,1], query_points[:,2], label=\"query\", alpha=0.5, c=featuresIdxQ, marker=\"o\", s=100)\n",
    "ax.scatter3D(transformed_query[:,0], transformed_query[:,1], transformed_query[:,2], label=\"query transformed\", alpha=0.5, c=featuresIdxQ, marker=\"x\", s=100)\n",
    "ax.scatter3D(pocket_points[:,0], pocket_points[:,1], pocket_points[:,2], label=\"pocket pharma4s\", alpha=0.3, c=featuresIdxX, marker=\"s\", s=100)\n",
    "plt.legend()\n",
    "plt.show()"
   ]
  },
  {
   "cell_type": "markdown",
   "metadata": {},
   "source": [
    "### CPD test\n",
    "\n",
    "trying to run CPD by adapting toy code example:"
   ]
  },
  {
   "cell_type": "code",
   "execution_count": null,
   "metadata": {},
   "outputs": [],
   "source": [
    "from pycpd import RigidRegistration\n",
    "pocket_points = np.concatenate([frag_donor_coords, frag_acceptor_coords])\n",
    "query_points = np.concatenate([query_donor_coords, query_acceptor_coords])\n",
    "\n",
    "# (from Ruben example) TODO: this is scale and rigid. I don't want scale\n",
    "\n",
    "class MyRigidRegistration(RigidRegistration):\n",
    "\n",
    "    def __init__(self, *args, **kwargs):\n",
    "        super().__init__( *args, **kwargs)\n",
    "        \n",
    "    def register(self, callback=lambda **kwargs: None):\n",
    "        self.transform_point_cloud()\n",
    "        while self.iteration < self.max_iterations and self.diff > self.tolerance:\n",
    "            print(\"self.diff\", self.diff, \"self.tolerance\",self.tolerance, \"self.max_iterations\", self.iteration, self.max_iterations)\n",
    "            self.iterate()\n",
    "            if callable(callback):\n",
    "                kwargs = {'iteration': self.iteration,\n",
    "                          'error': self.q, 'X': self.X, 'Y': self.TY}\n",
    "                callback(**kwargs)\n",
    "                \n",
    "    def update_transform(self):\n",
    "        \"\"\"\n",
    "        Calculate a new estimate of the rigid transformation.\n",
    "\n",
    "        \"\"\"\n",
    "\n",
    "        # target point cloud mean\n",
    "        muX = np.divide(np.sum(np.dot(self.P, self.X), axis=0),\n",
    "                        self.Np)\n",
    "        # source point cloud mean\n",
    "        muY = np.divide(\n",
    "            np.sum(np.dot(np.transpose(self.P), self.Y), axis=0), self.Np)\n",
    "\n",
    "        self.X_hat = self.X - np.tile(muX, (self.N, 1))\n",
    "        # centered source point cloud\n",
    "        Y_hat = self.Y - np.tile(muY, (self.M, 1))\n",
    "        self.YPY = np.dot(np.transpose(self.P1), np.sum(\n",
    "            np.multiply(Y_hat, Y_hat), axis=1))\n",
    "\n",
    "        self.A = np.dot(np.transpose(self.X_hat), np.transpose(self.P))\n",
    "        self.A = np.dot(self.A, Y_hat)\n",
    "\n",
    "        # Singular value decomposition as per lemma 1 of https://arxiv.org/pdf/0905.2635.pdf.\n",
    "        U, _, V = np.linalg.svd(self.A, full_matrices=True)\n",
    "        C = np.ones((self.D, ))\n",
    "        C[self.D-1] = np.linalg.det(np.dot(U, V))\n",
    "\n",
    "        # Calculate the rotation matrix using Eq. 9 of https://arxiv.org/pdf/0905.2635.pdf.\n",
    "        self.R = np.transpose(np.dot(np.dot(U, np.diag(C)), V))\n",
    "        # Update scale and translation using Fig. 2 of https://arxiv.org/pdf/0905.2635.pdf.\n",
    "        self.t = np.transpose(muX) -  np.dot(np.transpose(self.R), np.transpose(muY))\n",
    "\n",
    "\n",
    "reg = MyRigidRegistration(X=pocket_points, Y=query_points, w=0.1)\n",
    "\n",
    "def visualize(iteration, error, X, Y):\n",
    "    \n",
    "    fig = plt.figure(figsize=(10,10))\n",
    "    ax = plt.axes(projection='3d')\n",
    "    ax.scatter3D(X[:, 0],  X[:, 1], color='red', label='Target')\n",
    "    ax.scatter3D(Y[:, 0],  Y[:, 1], color='blue', label='Source')\n",
    "    plt.legend(loc='upper left', fontsize='x-large')\n",
    "    plt.show()\n",
    "\n",
    "def callbackPrint(*args, **kwargs):\n",
    "    print(\"Error:\", kwargs[\"error\"])\n",
    "    visualize(**kwargs)\n",
    "    \n",
    "reg.register(callbackPrint)\n",
    "\n",
    "\n",
    "print(reg.get_registration_parameters())\n",
    "transformed_query2 = reg.transform_point_cloud(Y=query_points)"
   ]
  },
  {
   "cell_type": "markdown",
   "metadata": {},
   "source": [
    "# Brute force draft"
   ]
  },
  {
   "cell_type": "markdown",
   "metadata": {},
   "source": [
    "https://zpl.fi/aligning-point-patterns-with-kabsch-umeyama-algorithm/\n",
    "trying to use my kabsch functions to align query to fragment cloud:"
   ]
  },
  {
   "cell_type": "markdown",
   "metadata": {},
   "source": [
    "- for number of points in query cloud, get that number of points in fragment cloud in each combination possible\n",
    "- limit by distance, ph4 type first to reduce computation needed\n",
    "- then align query to each possible combination\n",
    "- get best alignment "
   ]
  },
  {
   "cell_type": "markdown",
   "metadata": {},
   "source": [
    "generating combinations of points to align against\n",
    "\n",
    "need to have:\n",
    "- all different combinations of fragment ph4 points\n",
    "- each different permutation of alignment of the query points to each different point in the subset (in each combination)\n",
    "\n",
    "limit by:\n",
    "- distances between points\n",
    "- type of ph4"
   ]
  },
  {
   "cell_type": "markdown",
   "metadata": {},
   "source": [
    "### Brute force\n",
    "\n",
    "https://laempy.github.io/pyoints/tutorials/icp.html icp tutorial\n",
    "\n",
    "https://gist.github.com/bougui505/e392a371f5bab095a3673ea6f4976cc8 pytorch kabsch\n",
    "\n",
    "https://gist.github.com/jlmelville/9b4e5d076e719a7541881e8cbf58a895 R implementation kabsch\n",
    "\n",
    "\n",
    "*brute force*\n",
    "- need to do kabsch but limit distance and limit combinations of points\n",
    "- generate combinations of points \n",
    "- filter down to points in fragment cloud that fit restrictions\n",
    "- align query molecule to filtered fragment points/'allowed' ph4s "
   ]
  },
  {
   "cell_type": "markdown",
   "metadata": {},
   "source": [
    "### Using Kabsch to align just one query molecule to one subset of pocket points\n",
    "\n",
    "- just seeing if my Kabsch code works"
   ]
  },
  {
   "cell_type": "code",
   "execution_count": 13,
   "metadata": {},
   "outputs": [],
   "source": [
    "import kabsch_functions_new as kabsch\n",
    "import numpy as np\n",
    "import scipy\n",
    "import pandas as pd"
   ]
  },
  {
   "cell_type": "code",
   "execution_count": null,
   "metadata": {},
   "outputs": [],
   "source": [
    "# concat donor and acceptor coords into one array of pocket points\n",
    "pocket_points = np.concatenate([frag_donor_coords, frag_acceptor_coords])\n",
    "# just checking shape of array as kabsch depends on same shaped matrices - fact check that this is a kabsch thing and not just your code\n",
    "print(pocket_points.shape)\n",
    "\n",
    "# do same for query points - just taking one for now, need to expand to run for each query/conformer\n",
    "query_points = np.concatenate([query_donor_coords, query_acceptor_coords])\n",
    "print(query_points.shape)\n",
    "\n",
    "# get number of points in query cloud - will need to use this as limit for number of sets of coords in pocket subset\n",
    "query_len = int(len(query_donor_coords) + len(query_acceptor_coords))\n",
    "print(query_len)\n",
    "\n",
    "# just test with subset of pocket points (will need to iterate over all combinations/permutations)\n",
    "pocket_subset = pocket_points[0:query_len]\n",
    "\n",
    "# check number of sets of coords\n",
    "print(pocket_subset[:,0]) # x coords for pocket\n",
    "\n",
    "# run kabsch functions - NOTE need to be same shape matrices input\n",
    "qm_means = query_points.mean(0)\n",
    "rm_means = pocket_subset.mean(0)\n",
    "qm_trans = query_points - qm_means\n",
    "rm_trans = pocket_subset - rm_means\n",
    "\n",
    "trans_vector =  rm_means # add to revert_translation\n",
    "\n",
    "#For more speed use scipy.spatial.transform.Rotation.align_vectors. You still need to deal with translation\n",
    "h = kabsch.compute_covariance_matrix(rm_trans, qm_trans)\n",
    "r = kabsch.compute_optimal_rotation_matrix(h)\n",
    "qm_rotated = kabsch.apply_rotation(qm_trans, r)\n",
    "\n",
    "# qm_reverted, frm_reverted = revert_translation(qm_rotated, frm_trans, qm_means, frm_means)\n",
    "qm_aligned =  qm_rotated + trans_vector\n",
    "rmsd_val = kabsch.rmsd(qm_aligned, rm_trans+ trans_vector)\n",
    "\n",
    "rmsd_val_before = kabsch.rmsd(query_points, pocket_subset)\n",
    "rmsd_val_after = rmsd_val"
   ]
  },
  {
   "cell_type": "code",
   "execution_count": null,
   "metadata": {},
   "outputs": [],
   "source": [
    "# plot before transformation\n",
    "ax = plt.figure(figsize=(5,5)).add_subplot(projection='3d')\n",
    "# plot matrices for comparison \n",
    "ax.scatter3D(pocket_subset[:,0], pocket_subset[:,1], pocket_subset[:,2], label='Query', color='r', s=100)\n",
    "ax.scatter3D(query_points[:,0], query_points[:,1], query_points[:,2], label='Fragments', color='b', s=100)\n",
    "# set plot titles and labels\n",
    "ax.legend()\n",
    "ax.set_xlabel('X', fontsize=20)\n",
    "ax.set_ylabel('Y', fontsize=20)\n",
    "ax.set_zlabel('Z', fontsize=20)\n",
    "plt.title(str('Test: query before aligning to fragments, RMSD =' + str(\"{:.2f}\".format(rmsd_val_before))), fontsize=20)\n",
    "\n",
    "\n",
    "# plot after transformation\n",
    "ax = plt.figure(figsize=(5,5)).add_subplot(projection='3d')\n",
    "# plot matrices for comparison \n",
    "ax.scatter3D(qm_reverted[:,0], qm_reverted[:,1], qm_reverted[:,2], label='Query', color='r', s=100)\n",
    "ax.scatter3D(frm_reverted[:,0], frm_reverted[:,1], frm_reverted[:,2], label='Fragments', color='b', s=100)\n",
    "# set plot titles and labels\n",
    "ax.legend()\n",
    "ax.set_xlabel('X', fontsize=20)\n",
    "ax.set_ylabel('Y', fontsize=20)\n",
    "ax.set_zlabel('Z', fontsize=20)\n",
    "plt.title(str('Test query mapped to fragments, RMSD =' + str(\"{:.2f}\".format(rmsd_val_after))), fontsize=20)\n"
   ]
  },
  {
   "cell_type": "code",
   "execution_count": null,
   "metadata": {},
   "outputs": [],
   "source": [
    "# kabsch sanity check - fragments should stay in same place after kabsch applied\n",
    "ax = plt.figure(figsize=(5,5)).add_subplot(projection='3d')\n",
    "# plot matrices for comparison \n",
    "ax.scatter3D(pocket_subset[:,0], pocket_subset[:,1], pocket_subset[:,2], label='Query', color='r', s=100)\n",
    "ax.scatter3D(frm_reverted[:,0], frm_reverted[:,1], frm_reverted[:,2], label='Fragments', color='b', s=100)\n",
    "# set plot titles and labels\n",
    "ax.legend()\n",
    "ax.set_xlabel('X', fontsize=20)\n",
    "ax.set_ylabel('Y', fontsize=20)\n",
    "ax.set_zlabel('Z', fontsize=20)\n",
    "plt.title('kabsch sanity check - fragments stay in same place', fontsize=20)"
   ]
  },
  {
   "cell_type": "markdown",
   "metadata": {},
   "source": [
    "### Map query mol to itself? Remove coords from one copy?\n",
    "\n",
    "- need to see if can match back a query molecule to the fragment cloud to show alignment works\n",
    "- substructure match for query vs fragments? \n",
    "\n",
    "\n",
    "- use rdkit tranform coords to test alignment\n"
   ]
  },
  {
   "cell_type": "code",
   "execution_count": null,
   "metadata": {},
   "outputs": [],
   "source": [
    "# use query_mol[0]\n",
    "# generate 3d coordinates\n",
    "mol1 = Chem.AddHs(query_mols[0])\n",
    "AllChem.EmbedMolecule(mol1)\n",
    "Chem.MolToMolBlock(mol1)\n",
    "\n",
    "print(mol1)\n",
    "\n",
    "#do, ac, ar = get_coords_query(mol_no_cheating)\n",
    "\n",
    "# NOTE how to get ph4 points from random coordinates of mol?? "
   ]
  },
  {
   "cell_type": "markdown",
   "metadata": {},
   "source": [
    "### Adding permutations\n",
    "\n",
    "- mapping query molecule to subset of fragment ph4 points\n",
    "- e.g. have 5 ph4 query molecule points and 5 from the fragment cloud\n",
    "- as well as testing each different combination of 5 points from fragment cloud, also need to test the different pairings (i.e. correspondence) of each point from the query molecule with each in the fragment cloud subset (combination)\n",
    "\n",
    "https://www.adamsmith.haus/python/answers/how-to-get-all-unique-combinations-of-two-lists-in-python"
   ]
  },
  {
   "cell_type": "markdown",
   "metadata": {},
   "source": [
    "*should we expect different RMSD?*\n",
    "- did think yes if corresponding to different points? but points transformed into best alignment anyway so maybe permutation/pairwise correspondence doesn't matter?\n",
    "- either RMSD values all same or my code wrong"
   ]
  },
  {
   "cell_type": "code",
   "execution_count": null,
   "metadata": {},
   "outputs": [],
   "source": [
    "import itertools"
   ]
  },
  {
   "cell_type": "code",
   "execution_count": null,
   "metadata": {},
   "outputs": [],
   "source": [
    "# for test pocket subset and one query molecule, get different permutations of corresponding pairs of points from both of the sets\n",
    "\n",
    "pocket_subset = pocket_points[0:query_len]\n",
    "pocket_subset_list = list(pocket_subset)\n",
    "query_points_list = list(query_points)\n",
    "\n",
    "pairwise_permutations = [list(zip(each_permutation, query_points_list)) for each_permutation in itertools.permutations(pocket_subset_list, len(query_points_list))]\n",
    "print('Number of different pairings:', len(pairwise_permutations))\n",
    "\n",
    "\n",
    "pockets = []\n",
    "queries = []\n",
    "for i in np.arange(0, len(pairwise_permutations), 1):\n",
    "    for j in pairwise_permutations[i]:\n",
    "        pocket = []\n",
    "        query = []\n",
    "        # store a new order of the points - NOTE ordering is lost at the moment, RMSD values the same ?\n",
    "        for k in np.arange(0,5,1):\n",
    "            pocket = np.append(pairwise_permutations[0][k][0], pocket)\n",
    "            query = np.append(pairwise_permutations[0][k][1], query)\n",
    "        # reshape 1D arrays into matrices\n",
    "        pocket = np.reshape(pocket, (5,3))\n",
    "        query = np.reshape(query, (5,3))\n",
    "    pockets.append(pocket)\n",
    "    queries.append(query)\n",
    "\n",
    "##print(len(pockets))\n",
    "#print(pockets)\n",
    "#print(len(queries))\n",
    "\n",
    "for pocket, query in zip(pockets, queries):\n",
    "    # run kabsch\n",
    "    qm_means = query.mean(0)\n",
    "    rm_means = pocket.mean(0)\n",
    "    qm_trans = query - qm_means\n",
    "    rm_trans = pocket - rm_means\n",
    "    \n",
    "    trans_vector =  rm_means # add to revert_translation\n",
    "    \n",
    "    #For more speed use scipy.spatial.transform.Rotation.align_vectors. You still need to deal with translation\n",
    "    h = kabsch.compute_covariance_matrix(rm_trans, qm_trans)\n",
    "    r = kabsch.compute_optimal_rotation_matrix(h)\n",
    "    qm_rotated = kabsch.apply_rotation(qm_trans, r)\n",
    "    \n",
    "    # qm_reverted, frm_reverted = revert_translation(qm_rotated, frm_trans, qm_means, frm_means)\n",
    "    qm_aligned =  qm_rotated + trans_vector\n",
    "    rmsd_val = kabsch.rmsd(qm_aligned, rm_trans+ trans_vector)\n",
    "    print(rmsd_val)"
   ]
  },
  {
   "cell_type": "code",
   "execution_count": null,
   "metadata": {},
   "outputs": [],
   "source": [
    "matrix = np.array([[0.0, 0, 1], [0, 1, 0], [0, 0, 0]])\n",
    "\n",
    "def rot_ar_x(radi):\n",
    "    return  np.array([[1, 0, 0],\n",
    "            [0, np.cos(radi), -np.sin(radi)],\n",
    "            [0, np.sin(radi), np.cos(radi)],], dtype=np.double)\n",
    "            \n",
    "\n",
    "\n",
    "# NOTE find difference b/t centroids\n",
    "qm_trans, qm_means = kabsch.translate_to_origin(matrix)\n",
    "\n",
    "rot_matrix = rot_ar_x(np.pi)\n",
    "matrix_transform = qm_trans@rot_matrix\n",
    "\n",
    "frm_trans, frm_means = kabsch.translate_to_origin(matrix_transform)\n",
    "\n",
    "trans_vector = qm_means - frm_means # add to revert_translation\n",
    "\n",
    "h = kabsch.compute_covariance_matrix(qm_trans, frm_trans)\n",
    "r = kabsch.compute_optimal_rotation_matrix(h)\n",
    "qm_rotated = kabsch.apply_rotation(qm_trans, r)\n",
    "qm_reverted, frm_reverted = kabsch.revert_translation(qm_rotated, frm_trans, qm_means, frm_means)\n",
    "frm_corrected = frm_reverted + trans_vector\n",
    "# calculate RMSD\n",
    "rmsd_val = kabsch.rmsd(qm_reverted, frm_corrected)\n",
    "print(rmsd_val) # this should be basically 0\n",
    "\n",
    "print(r)\n",
    "print(trans_vector)\n",
    "print(rot_matrix)\n",
    "\n",
    "\n"
   ]
  },
  {
   "cell_type": "markdown",
   "metadata": {},
   "source": [
    "### Generating combinations of fragment cloud points"
   ]
  },
  {
   "cell_type": "code",
   "execution_count": null,
   "metadata": {},
   "outputs": [],
   "source": [
    "# generating combinations of fragment cloud points\n",
    "import itertools\n",
    "\n",
    "# concat donor and acceptor coords into one array of pocket points\n",
    "pocket_points = np.concatenate([frag_donor_coords, frag_acceptor_coords])\n",
    "# just checking shape of array as kabsch depends on same shaped matrices - fact check that this is a kabsch thing and not just your code\n",
    "print(pocket_points.shape)\n",
    "\n",
    "# do same for query points - just taking one for now, need to expand to run for each query/conformer\n",
    "query_points = np.concatenate([query_donor_coords, query_acceptor_coords])\n",
    "print(query_points.shape)\n",
    "\n",
    "# get number of points in query cloud - will need to use this as limit for number of sets of coords in pocket subset\n",
    "query_len = int(len(query_donor_coords) + len(query_acceptor_coords))\n",
    "print(query_len)\n",
    "\n",
    "# NOTE itertools gives object, convert to list to see len\n",
    "combinations = itertools.combinations(pocket_points, 5)\n",
    "print(len(list(combinations))) # 67,910,864\n"
   ]
  },
  {
   "cell_type": "markdown",
   "metadata": {},
   "source": [
    "### Running Kabsch on one query molecule vs different combinations of fragment points\n",
    "\n",
    "- no permutations?\n",
    "- just subset of combinations to test"
   ]
  },
  {
   "cell_type": "markdown",
   "metadata": {},
   "source": [
    "RMSD changes depending on combination of points used as expected"
   ]
  },
  {
   "cell_type": "code",
   "execution_count": null,
   "metadata": {},
   "outputs": [],
   "source": [
    "pocket_subset = pocket_points[0:10]\n",
    "\n",
    "combinations = itertools.combinations(pocket_subset, 5)\n",
    "print(len(list(combinations)))\n",
    "\n",
    "\n",
    "for combination in itertools.combinations(pocket_subset, 5):\n",
    "\n",
    "    #print(combination)\n",
    "    # store combination of points as the pocket subset\n",
    "    pocket_points = np.concatenate([combination])\n",
    "\n",
    "    # run kabsch\n",
    "    qm_means = query_points.mean(0)\n",
    "    rm_means = pocket_points.mean(0)\n",
    "    qm_trans = query_points - qm_means\n",
    "    rm_trans = pocket_points - rm_means\n",
    "    \n",
    "    trans_vector =  rm_means # add to revert_translation\n",
    "    \n",
    "    #For more speed use scipy.spatial.transform.Rotation.align_vectors. You still need to deal with translation\n",
    "    h = kabsch.compute_covariance_matrix(rm_trans, qm_trans)\n",
    "    r = kabsch.compute_optimal_rotation_matrix(h)\n",
    "    qm_rotated = kabsch.apply_rotation(qm_trans, r)\n",
    "    \n",
    "    # qm_reverted, frm_reverted = revert_translation(qm_rotated, frm_trans, qm_means, frm_means)\n",
    "    qm_aligned =  qm_rotated + trans_vector\n",
    "    rmsd_val = kabsch.rmsd(qm_aligned, rm_trans+ trans_vector)\n",
    "    print(rmsd_val)\n",
    "\n",
    "\n"
   ]
  },
  {
   "cell_type": "code",
   "execution_count": null,
   "metadata": {},
   "outputs": [],
   "source": [
    "import kabsch_functions_new as kabsch\n",
    "\n",
    "pocket_subset = pocket_points[0:10]\n",
    "\n",
    "combinations = itertools.combinations(pocket_subset, 5)\n",
    "print(len(list(combinations)))\n",
    "\n",
    "rmsd_vals = []\n",
    "\n",
    "for combination in itertools.combinations(pocket_subset, 5):\n",
    "\n",
    "    #print(combination)\n",
    "    # store combination of points as the pocket subset\n",
    "    pocket_points = np.concatenate([combination])\n",
    "\n",
    "    # run kabsch\n",
    "\n",
    "    qm_means = query_points.mean(0)\n",
    "    rm_means = pocket_points.mean(0)\n",
    "    qm_trans = query_points - qm_means\n",
    "    rm_trans = pocket_points - rm_means\n",
    "    \n",
    "    trans_vector =  rm_means # add to revert_translation\n",
    "    \n",
    "    #For more speed use scipy.spatial.transform.Rotation.align_vectors. You still need to deal with translation\n",
    "    h = kabsch.compute_covariance_matrix(rm_trans, qm_trans)\n",
    "    r = kabsch.compute_optimal_rotation_matrix(h)\n",
    "    qm_rotated = kabsch.apply_rotation(qm_trans, r)\n",
    "    \n",
    "    # qm_reverted, frm_reverted = revert_translation(qm_rotated, frm_trans, qm_means, frm_means)\n",
    "    qm_aligned =  qm_rotated + trans_vector\n",
    "    rmsd_val = kabsch.rmsd(qm_aligned, rm_trans+ trans_vector)\n",
    "    print(rmsd_val)"
   ]
  },
  {
   "cell_type": "markdown",
   "metadata": {},
   "source": [
    "### Filtering by distance\n",
    "https://docs.scipy.org/doc/scipy/reference/generated/scipy.spatial.distance.cdist.html"
   ]
  },
  {
   "cell_type": "code",
   "execution_count": null,
   "metadata": {},
   "outputs": [],
   "source": [
    "import scipy \n",
    "import numpy as np\n",
    "\n",
    "# want to compare pairwise distances within query points to pairwise distances within fragment subset points\n",
    "# if comparable, then mapping realistic\n",
    "# if wildly different, using that combination of fragment points is unlikely to give good alignment\n",
    "\n",
    "# just test with subset of pocket points (will need to iterate over all combinations/permutations)\n",
    "# find pdist for pocket points\n",
    "pocket_subset = pocket_points[0:query_len]\n",
    "pdist_fr = scipy.spatial.distance.pdist(pocket_subset, metric='euclidean')\n",
    "\n",
    "# find pdist for query points\n",
    "pdist_q = scipy.spatial.distance.pdist(query_points, metric='euclidean')\n",
    "\n",
    "# NOTE how to compare these sets? \n",
    "# if points not within e.g. 0.5? overall variance? use cdist?\n",
    "# find difference between each pair of pdist values in both lists returned\n",
    "# want minimal pairwise differences for sets of points to look similar\n",
    "# in theory should be some cases where distances between sets of fragment points and query points are v similar\n",
    "# question is what cutoff to use? how many combinations to get rid of? when to introduce permutations?\n",
    "diffs = []\n",
    "for i,j in zip(pdist_fr, pdist_q):\n",
    "     diff = np.abs(i - j)\n",
    "     diffs.append(diff)\n",
    "diff_avg = np.mean(diffs)\n",
    "print(diff_avg)\n"
   ]
  },
  {
   "cell_type": "markdown",
   "metadata": {},
   "source": [
    "### Distance filtering tests\n",
    "\n",
    "- get subset of combinations of the pocket points (same length as number of coords in query)\n",
    "- get pairwise distances for within pocket combination and within query points\n",
    "- get differences between the 2 sets of pairwise distances (on basis that if similarly spaced points, should be similar)\n",
    "- use average difference between pdists as cutoff for similarity\n",
    "- compare RMSD of pocket combinations meeting and not meeting the cutoff (i.e. does filtering by distance help)"
   ]
  },
  {
   "cell_type": "code",
   "execution_count": null,
   "metadata": {},
   "outputs": [],
   "source": [
    "# see how many combinations can get rid of if cutoff set at diff values - find average diff, cut off any above mean diff \n",
    "# NOTE this is a completely arbritrary decision and will need changing, just playing around to see what will reduce combinations\n",
    "# (when aligning to this one query molecule)\n",
    "\n",
    "# get each set of combinations of point coords (just test with like 10 combinations otherwise will be here forever)\n",
    "# create another bigger subset of pocket points to create combinations\n",
    "pocket_subset = pocket_points[0:10]\n",
    "\n",
    "meets_cutoff = 0\n",
    "fails = 0\n",
    "diff_avgs = []\n",
    "cutoff_pass = []\n",
    "cutoff_fail = []\n",
    "\n",
    "for combination in itertools.combinations(pocket_subset, 5):\n",
    "    # calculate pdist_fr \n",
    "    pdist_fr = scipy.spatial.distance.pdist(combination, metric='euclidean')\n",
    "    # get diffs to pdist_q\n",
    "    diffs = []\n",
    "    for i,j in zip(pdist_fr, pdist_q):\n",
    "        diff = np.abs(i - j)\n",
    "        diffs.append(diff)\n",
    "    # get avg diffs\n",
    "    diff_avg = np.mean(diffs)\n",
    "    diff_avgs.append(diff_avg)\n",
    "    # get mean of means and then create a cutoff\n",
    "    cutoff = np.mean(diff_avgs)\n",
    "    # add to counter if average diff below cutoff\n",
    "    if diff_avg <= cutoff:\n",
    "        meets_cutoff += 1\n",
    "        cutoff_pass.append(combination)\n",
    "    else:\n",
    "        fails += 1\n",
    "        cutoff_fail.append(combination)\n",
    "\n",
    "    total_combinations = meets_cutoff + fails\n",
    "\n",
    "\n",
    "# see how many combinations left in list\n",
    "print('Total combinations that meet cutoff:', meets_cutoff, 'out of', total_combinations, ',', str(\"{:.2f}\".format((meets_cutoff/total_combinations)*100)) + '%')\n",
    "\n",
    "# NOTE should check average RMSD of those meeting cutoff and those not - i.e. is lower difference b/t pdists helping alignment"
   ]
  },
  {
   "cell_type": "code",
   "execution_count": null,
   "metadata": {},
   "outputs": [],
   "source": [
    "pass_rmsd_vals = []\n",
    "fail_rmsd_vals = []\n",
    "\n",
    "for cutoff_outcome, store_vals in zip([cutoff_pass, cutoff_fail], [pass_rmsd_vals, fail_rmsd_vals]):\n",
    "    for fr_points in cutoff_outcome:\n",
    "        # prep points first into right shape\n",
    "        fr_points = np.concatenate([fr_points])\n",
    "        # run kabsch functions - NOTE need to be same shape matrices input\n",
    "        qm_trans, qm_means = kabsch.translate_to_origin(query_points)\n",
    "        frm_trans, frm_means = kabsch.translate_to_origin(fr_points)\n",
    "        h = kabsch.compute_covariance_matrix(qm_trans, frm_trans)\n",
    "        r = kabsch.compute_optimal_rotation_matrix(h)\n",
    "        qm_rotated = kabsch.apply_rotation(qm_trans, r)\n",
    "        qm_reverted, frm_reverted = kabsch.revert_translation(qm_rotated, frm_trans, qm_means, frm_means)\n",
    "        # calculate RMSD\n",
    "        rmsd_val = kabsch.rmsd(qm_reverted, frm_reverted)\n",
    "        store_vals.append(rmsd_val)\n",
    "\n",
    "\n",
    "    if cutoff_outcome == cutoff_pass:\n",
    "        avg_pass_rmsd = np.mean(store_vals)\n",
    "        print('mean RMSD of combinations passing distance cutoff:', avg_pass_rmsd)\n",
    "    elif cutoff_outcome == cutoff_fail:\n",
    "        avg_fail_rmsd = np.mean(store_vals)\n",
    "        print('mean RMSD of combinations failing distance cutoff:', avg_fail_rmsd)\n",
    "\n"
   ]
  },
  {
   "cell_type": "markdown",
   "metadata": {},
   "source": [
    "### Distance tests pt 2\n",
    "\n",
    "- set a cutoff that all differences in distances have to meet to pass"
   ]
  },
  {
   "cell_type": "code",
   "execution_count": null,
   "metadata": {},
   "outputs": [],
   "source": [
    "# see how many combinations can get rid of if cutoff set at diff values - find average diff, cut off any above mean diff \n",
    "# NOTE this is a completely arbritrary decision and will need changing, just playing around to see what will reduce combinations\n",
    "# (when aligning to this one query molecule)\n",
    "\n",
    "# get each set of combinations of point coords (just test with like 10 combinations otherwise will be here forever)\n",
    "# create another bigger subset of pocket points to create combinations\n",
    "pocket_subset = pocket_points[0:10]\n",
    "\n",
    "meets_cutoff = 0\n",
    "fails = 0\n",
    "diff_avgs = []\n",
    "cutoff_pass = []\n",
    "cutoff_fail = []\n",
    "\n",
    "for combination in itertools.combinations(pocket_subset, 5):\n",
    "    # calculate pdist_fr \n",
    "    pdist_fr = scipy.spatial.distance.pdist(combination, metric='euclidean')\n",
    "    # get diffs to pdist_q\n",
    "    diffs = []\n",
    "    for i,j in zip(pdist_fr, pdist_q):\n",
    "        diff = np.abs(i - j)\n",
    "        diffs.append(diff)\n",
    "    # look at each difference, if all meet cutoff, then add to pass list\n",
    "    cutoff = 3.5\n",
    "    if all(diff <= cutoff for diff in diffs) == True:\n",
    "            meets_cutoff += 1\n",
    "            cutoff_pass.append(combination)\n",
    "    else:\n",
    "        fails += 1\n",
    "        cutoff_fail.append(combination)\n",
    "\n",
    "    total_combinations = meets_cutoff + fails\n",
    "\n",
    "# see how many combinations left in list\n",
    "print('Total combinations that meet cutoff:', meets_cutoff, 'out of', total_combinations, ',', str(\"{:.2f}\".format((meets_cutoff/total_combinations)*100)) + '%')\n",
    "print('Total combinations that do not meet cutoff:', fails, 'out of', total_combinations, ',', str(\"{:.2f}\".format((fails/total_combinations)*100)) + '%')\n",
    "\n",
    "# NOTE should check average RMSD of those meeting cutoff and those not - i.e. is lower difference b/t pdists helping alignment"
   ]
  },
  {
   "cell_type": "code",
   "execution_count": null,
   "metadata": {},
   "outputs": [],
   "source": [
    "pass_rmsd_vals = []\n",
    "fail_rmsd_vals = []\n",
    "\n",
    "for cutoff_outcome, store_vals in zip([cutoff_pass, cutoff_fail], [pass_rmsd_vals, fail_rmsd_vals]):\n",
    "    for fr_points in cutoff_outcome:\n",
    "        # prep points first into right shape\n",
    "        fr_points = np.concatenate([fr_points])\n",
    "        # run kabsch functions - NOTE need to be same shape matrices input\n",
    "        qm_trans, qm_means = kabsch.translate_to_origin(query_points)\n",
    "        frm_trans, frm_means = kabsch.translate_to_origin(fr_points)\n",
    "        h = kabsch.compute_covariance_matrix(qm_trans, frm_trans)\n",
    "        r = kabsch.compute_optimal_rotation_matrix(h)\n",
    "        qm_rotated = kabsch.apply_rotation(qm_trans, r)\n",
    "        qm_reverted, frm_reverted = kabsch.revert_translation(qm_rotated, frm_trans, qm_means, frm_means)\n",
    "        # calculate RMSD\n",
    "        rmsd_val = kabsch.rmsd(qm_reverted, frm_reverted)\n",
    "        store_vals.append(rmsd_val)\n",
    "\n",
    "\n",
    "    if cutoff_outcome == cutoff_pass:\n",
    "        avg_pass_rmsd = np.mean(store_vals)\n",
    "        print('mean RMSD of combinations passing distance cutoff:', avg_pass_rmsd)\n",
    "    elif cutoff_outcome == cutoff_fail:\n",
    "        avg_fail_rmsd = np.mean(store_vals)\n",
    "        print('mean RMSD of combinations failing distance cutoff:', avg_fail_rmsd)"
   ]
  },
  {
   "cell_type": "markdown",
   "metadata": {},
   "source": [
    "https://github.com/charnley/rmsd/blob/master/rmsd/calculate_rmsd.py - another implementation of Kabsch - should/could try and see if results same"
   ]
  },
  {
   "cell_type": "markdown",
   "metadata": {},
   "source": [
    "### Clustering\n",
    "\n",
    "*unfinished*\n",
    "- hierarchical clustering; use agglomerative clustering (sklearn)\n",
    "- aim to reduce number of points in fragment point cloud if high density in particular areas\n",
    "- 20 fragments with 98 points reduced to 36 clusters; if cluster also by ph4 type get 33 donor clusters and 18 acceptor clusters (no aromatic points)\n",
    "\n",
    "\n",
    "https://stackabuse.com/hierarchical-clustering-with-python-and-scikit-learn/ - stuff on distance b/t clusters"
   ]
  },
  {
   "cell_type": "code",
   "execution_count": 16,
   "metadata": {},
   "outputs": [],
   "source": [
    "import matplotlib.pyplot as plt\n",
    "from sklearn.cluster import AgglomerativeClustering"
   ]
  },
  {
   "cell_type": "code",
   "execution_count": 12,
   "metadata": {},
   "outputs": [],
   "source": [
    "def cluster(data, distance_threshold):\n",
    "\n",
    "    model = AgglomerativeClustering(linkage='average', n_clusters=None, distance_threshold=distance_threshold) # 0.5 - 1 \n",
    "    model.fit_predict(data)\n",
    "    pred = model.fit_predict(data)\n",
    "    print(\"Number of clusters found: {}\".format(len(set(model.labels_))))\n",
    "    labels = model.labels_\n",
    "    print('Cluster for each point: ', model.labels_)\n",
    "\n",
    "    return labels"
   ]
  },
  {
   "cell_type": "markdown",
   "metadata": {},
   "source": [
    "Plot cluster colours for fragment clouds \n",
    "\n",
    "https://www.adamsmith.haus/python/answers/how-to-color-a-scatter-plot-by-category-using-matplotlib-in-python"
   ]
  },
  {
   "cell_type": "code",
   "execution_count": null,
   "metadata": {},
   "outputs": [],
   "source": [
    "frag_coords = np.concatenate([frag_donor_coords, frag_acceptor_coords])\n",
    "#cluster(frag_coords)\n",
    "\n",
    "# cluster donor coords and add with labels to df\n",
    "labels = cluster(frag_donor_coords, distance_threshold=1)\n",
    "donor_df = pd.DataFrame([frag_donor_coords[:,0], frag_donor_coords[:,1], frag_donor_coords[:,2], labels])\n",
    "donor_df = donor_df.transpose()\n",
    "donor_df.columns = ['x', 'y', 'z', 'cluster_label']\n",
    "\n",
    "# cluster acceptor coords and add with labels to df\n",
    "labels = cluster(frag_acceptor_coords, distance_threshold=1)\n",
    "acceptor_df = pd.DataFrame([frag_acceptor_coords[:,0], frag_acceptor_coords[:,1], frag_acceptor_coords[:,2], labels])\n",
    "acceptor_df = acceptor_df.transpose()\n",
    "acceptor_df.columns = ['x', 'y', 'z', 'cluster_label']"
   ]
  },
  {
   "cell_type": "code",
   "execution_count": null,
   "metadata": {},
   "outputs": [],
   "source": [
    "# donor plots \n",
    "ax = plt.figure(figsize=(7,7)).add_subplot(projection='3d')\n",
    "donor_groups = donor_df.groupby('cluster_label')\n",
    "for name, group in donor_groups:\n",
    "    ax.scatter3D(group['x'], group['y'], group['z'], marker='o', label=name)\n",
    "\n",
    "ax.set_title('Donor clusters')\n",
    "ax.set_xlabel('X', fontsize=10)\n",
    "ax.set_ylabel('Y', fontsize=10)\n",
    "ax.set_zlabel('Z', fontsize=10)"
   ]
  },
  {
   "cell_type": "code",
   "execution_count": null,
   "metadata": {},
   "outputs": [],
   "source": [
    "# acceptor plots \n",
    "ax = plt.figure(figsize=(7,7)).add_subplot(projection='3d')\n",
    "acceptor_groups = acceptor_df.groupby('cluster_label')\n",
    "for name, group in acceptor_groups:\n",
    "    ax.scatter3D(group['x'], group['y'], group['z'], marker='o', label=name)\n",
    "\n",
    "ax.set_title('Acceptor clusters')\n",
    "ax.set_xlabel('X', fontsize=10)\n",
    "ax.set_ylabel('Y', fontsize=10)\n",
    "ax.set_zlabel('Z', fontsize=10)"
   ]
  },
  {
   "cell_type": "markdown",
   "metadata": {},
   "source": [
    "Figure out number of combinations for e.g. first query molecule when separate by cluster distances and/or types of ph4 compared to without limiting by those factors"
   ]
  },
  {
   "cell_type": "markdown",
   "metadata": {},
   "source": [
    "### Planning - using clustering to filter by distance and pharmacophore type\n",
    "\n",
    "- do on Friday"
   ]
  },
  {
   "cell_type": "markdown",
   "metadata": {},
   "source": [
    "- cluster different types of ph4 points separately - i.e. so there are donor clusters and acceptor clusters \n",
    "- find centre point of cluster group https://math.stackexchange.com/questions/2358354/how-do-you-find-the-midpoint-of-several-3d-points\n",
    "- this condenses cluster to single point\n",
    "- repeat for all clusters\n",
    "- reduce combinations by limiting so that only combinations of clusters can be used which contain the right type of ph4 (e.g. if query molecule has 4 donors, 1 acceptor, use 5 clusters where 4 come from donor clusters and 1 from acceptor cluster)\n",
    "- get maximum distance between pairs of points in query molecule\n",
    "- get distances between cluster centroids in possible combinations\n",
    "- only align to/include combinations of clusters that don't exceed this maximum distance between any pairs of clusters"
   ]
  },
  {
   "cell_type": "markdown",
   "metadata": {},
   "source": [
    "Find centroids of clusters: "
   ]
  },
  {
   "cell_type": "code",
   "execution_count": 11,
   "metadata": {},
   "outputs": [],
   "source": [
    "# function to get centroid of cluster of points:\n",
    "# have put coords into dataframes because find it easier to access x/y/z coords rather than slicing arrays\n",
    "# can use grouping in dataframes to more easily find centroids of clustered points\n",
    "\n",
    "def get_centroids(df):\n",
    "\n",
    "    x_means = df.groupby(['cluster_label'])['x'].mean()\n",
    "    y_means = df.groupby(['cluster_label'])['y'].mean() \n",
    "    z_means = df.groupby(['cluster_label'])['z'].mean()\n",
    "\n",
    "    cluster_centroids = []\n",
    "    for x, y, z in zip(x_means, y_means, z_means):\n",
    "        centroid_coords = [x, y, z]\n",
    "        cluster_centroids.append(centroid_coords)\n",
    "\n",
    "    return cluster_centroids"
   ]
  },
  {
   "cell_type": "code",
   "execution_count": null,
   "metadata": {},
   "outputs": [],
   "source": [
    "\n",
    "# gives arrays of centroid coordinates for each cluster\n",
    "donor_centroids = get_centroids(donor_df)\n",
    "acceptor_centroids = get_centroids(acceptor_df)\n",
    "\n",
    "print(donor_centroids[0])\n",
    "print(len(donor_centroids))"
   ]
  },
  {
   "cell_type": "markdown",
   "metadata": {},
   "source": [
    "Plot cluster centroids:\n",
    "\n",
    "- can see fewer points, simplified cloud"
   ]
  },
  {
   "cell_type": "code",
   "execution_count": null,
   "metadata": {},
   "outputs": [],
   "source": [
    "# cluster plots \n",
    "def plot(array, title):\n",
    "\n",
    "    ax = plt.figure(figsize=(7,7)).add_subplot(projection='3d')\n",
    "    for i in range(len(array)):\n",
    "        ax.scatter3D(array[i][0], array[i][1], array[i][2], marker='o', label=name)\n",
    "    ax.set_title(title)\n",
    "    ax.set_xlabel('X', fontsize=10)\n",
    "    ax.set_ylabel('Y', fontsize=10)\n",
    "    ax.set_zlabel('Z', fontsize=10)\n",
    "\n",
    "    return\n"
   ]
  },
  {
   "cell_type": "code",
   "execution_count": null,
   "metadata": {},
   "outputs": [],
   "source": [
    "\n",
    "plot(donor_centroids, 'Donor centroids')\n",
    "plot(acceptor_centroids, 'Acceptor centroids')"
   ]
  },
  {
   "cell_type": "markdown",
   "metadata": {},
   "source": [
    "Filter by types of pharmacophore in query molecule:\n",
    "\n",
    "- e.g. if query has 4 donors, 1 acceptor,\n",
    "- from all clusters, choose 4 donor clusters, 1 acceptor cluster\n",
    "- this will reduce combinations compared to if choosing 5 clusters from all clusters"
   ]
  },
  {
   "cell_type": "markdown",
   "metadata": {},
   "source": [
    "Get number of donors and acceptors in a query molecule:"
   ]
  },
  {
   "cell_type": "code",
   "execution_count": 20,
   "metadata": {},
   "outputs": [
    {
     "name": "stdout",
     "output_type": "stream",
     "text": [
      "4\n",
      "1\n"
     ]
    }
   ],
   "source": [
    "query_donors, query_acceptors, query_aromatic = get_coords_query(query_mols[0])\n",
    "print(len(query_donors))\n",
    "print(len(query_acceptors))"
   ]
  },
  {
   "cell_type": "markdown",
   "metadata": {},
   "source": [
    "Get combinations of fragment points (clusters) given types of ph4 in query:\n",
    "\n",
    "https://www.adamsmith.haus/python/answers/how-to-get-all-unique-combinations-of-two-lists-in-python"
   ]
  },
  {
   "cell_type": "markdown",
   "metadata": {},
   "source": [
    "*use subset of donor/acceptor points for now or laptop has a meltdown*"
   ]
  },
  {
   "cell_type": "code",
   "execution_count": null,
   "metadata": {},
   "outputs": [],
   "source": [
    "import math\n",
    "\n",
    "# NOTE change into function, also change so that nCk is automatically split by number of each ph4 type in query molecule\n",
    "# for query_mols[0] get all combinations of 4 donors with 1 acceptor\n",
    "# check how many to expect\n",
    "total = math.comb(5,4) * math.comb(5,1)\n",
    "print(total)\n",
    "# NOTE generating combinations by type in this case drops number from 252 to 25\n",
    "\n",
    "# get the actual combinations\n",
    "ph4_combinations = []\n",
    "for combination1 in itertools.combinations(donor_centroids[0:10], 4):\n",
    "    for combination2 in itertools.combinations(acceptor_centroids[0:10], 1):\n",
    "        new_comb = np.vstack([combination1, combination2]) # stack arrays of donor and acceptor coords\n",
    "        ph4_combinations.append(new_comb)\n",
    "print(len(ph4_combinations)) # check number expected\n",
    "print(ph4_combinations[0].shape) \n"
   ]
  },
  {
   "cell_type": "markdown",
   "metadata": {},
   "source": [
    "Get distances between cluster centroids:\n",
    "\n",
    "- this is still going to be computationally expensive if e.g. for donors there are 33 clusters?\n",
    "- only get maximum distances"
   ]
  },
  {
   "cell_type": "markdown",
   "metadata": {},
   "source": [
    "Get maximum distance between points in query molecule:\n",
    "\n"
   ]
  },
  {
   "cell_type": "code",
   "execution_count": null,
   "metadata": {},
   "outputs": [],
   "source": [
    "query_points = np.concatenate([query_donor_coords, query_acceptor_coords])\n",
    "print(query_points)\n",
    "\n",
    "# get pairwise distances\n",
    "pdist_q = scipy.spatial.distance.pdist(query_points, metric='euclidean')\n",
    "# get max distance for query molecule\n",
    "max_q_dist = np.max(pdist_q)\n",
    "print(max_q_dist)"
   ]
  },
  {
   "cell_type": "markdown",
   "metadata": {},
   "source": [
    "Run Kabsch on combinations that fit combination of pharmacophores in query molecule: \n",
    "\n",
    "- add in distance filtering (don't think this is right way to do it, will need to change)"
   ]
  },
  {
   "cell_type": "code",
   "execution_count": null,
   "metadata": {},
   "outputs": [],
   "source": [
    "for fr_combination in ph4_combinations:\n",
    "\n",
    "    # DISTANCE FILTERING\n",
    "    # get pairwise distances for the combination of fragment points\n",
    "    pdist_fr = scipy.spatial.distance.pdist(fr_combination, metric='euclidean')\n",
    "\n",
    "    # check if any pairwise distances for fragment points exceed max distance for query points\n",
    "    # if yes, skip combination\n",
    "    # else run alignment\n",
    "    if not any(pdist_fr) > max_q_dist:\n",
    "        # run kabsch functions - NOTE need to be same shape matrices input\n",
    "        qm_means = query_points.mean(0)\n",
    "        rm_means = pocket_points.mean(0)\n",
    "        qm_trans = query_points - qm_means\n",
    "        rm_trans = pocket_points - rm_means\n",
    "\n",
    "        trans_vector =  rm_means # add to revert_translation\n",
    "\n",
    "        #For more speed use scipy.spatial.transform.Rotation.align_vectors. You still need to deal with translation\n",
    "        h = kabsch.compute_covariance_matrix(rm_trans, qm_trans)\n",
    "        r = kabsch.compute_optimal_rotation_matrix(h)\n",
    "        qm_rotated = kabsch.apply_rotation(qm_trans, r)\n",
    "\n",
    "        # qm_reverted, frm_reverted = revert_translation(qm_rotated, frm_trans, qm_means, frm_means)\n",
    "        qm_aligned =  qm_rotated + trans_vector\n",
    "        rmsd_val = kabsch.rmsd(qm_aligned, rm_trans+ trans_vector)\n",
    "        print(rmsd_val)"
   ]
  },
  {
   "cell_type": "markdown",
   "metadata": {},
   "source": [
    "### 10/5/22 Using clustering distance threshold to limit alignment to subpockets \n",
    "\n",
    "- get max distance between query points\n",
    "- use that as distance threshold in clustering\n",
    "- will need to cluster using all ph4 types - but then what if limit to a subpocket/s for distance without the right types of ph4?\n"
   ]
  },
  {
   "cell_type": "markdown",
   "metadata": {},
   "source": [
    "Cluster fragment points for each query molecule:\n",
    "\n",
    "- if fewer clusters, max distance is greater\n",
    "- clustering with all points basically gives the possible subpockets that the query molecule could align to\n",
    "\n",
    "```for cluster in clusters:\n",
    "    cluster again but by ph4 to reduce number of points (get centroids)\n",
    "    for combinations within that cluster that fit ph4 types:\n",
    "        align query mol to the combination\n",
    "        if no combinations that fit ph4 type combination, skip```"
   ]
  },
  {
   "cell_type": "markdown",
   "metadata": {},
   "source": [
    "part 1: get main clusters to filter by distance"
   ]
  },
  {
   "cell_type": "code",
   "execution_count": null,
   "metadata": {},
   "outputs": [],
   "source": [
    "# just test on a/few query molecule/s\n",
    "\n",
    "# set up fragment points\n",
    "pocket_points = np.concatenate([frag_donor_coords, frag_acceptor_coords])\n",
    "\n",
    "# set up query points\n",
    "donor_coords, acceptor_coords, aromatic_coords = get_coords_query(query_mols[2])\n",
    "query_points = np.concatenate([donor_coords, acceptor_coords]) # just ignore aromatic points for now as we know there are none\n",
    "\n",
    "# get max distance for pairwise points of query molecule\n",
    "pdist_q = scipy.spatial.distance.pdist(query_points, metric='euclidean')\n",
    "max_query_dist = np.max(pdist_q)\n",
    "print(max_query_dist)\n",
    "\n",
    "# get possible subpockets of fragment cloud by clustering, use query max dist as threshold\n",
    "cluster_labels = cluster(pocket_points, distance_threshold=max_query_dist)\n",
    "clusters_df = pd.DataFrame([pocket_points[:,0], pocket_points[:,1], pocket_points[:,2], cluster_labels])\n",
    "clusters_df = clusters_df.transpose()\n",
    "clusters_df.columns = ['x', 'y', 'z', 'cluster_label']\n",
    "\n",
    "# visualise clusters\n",
    "ax = plt.figure(figsize=(7,7)).add_subplot(projection='3d')\n",
    "cluster_groups = clusters_df.groupby('cluster_label')\n",
    "for name, group in cluster_groups:\n",
    "    ax.scatter3D(group['x'], group['y'], group['z'], marker='o', label=name)\n",
    "ax.set_title('Main clusters')\n",
    "ax.set_xlabel('X', fontsize=10)\n",
    "ax.set_ylabel('Y', fontsize=10)\n",
    "ax.set_zlabel('Z', fontsize=10)\n"
   ]
  },
  {
   "cell_type": "markdown",
   "metadata": {},
   "source": [
    "part 2: get ph4 types within clusters/subpockets, get fragment ph4 combinations, run kabsch\n",
    "\n",
    "- no centroids used to reduce points (in part 1? don't want to find centroids for mix of ph4 types)"
   ]
  },
  {
   "cell_type": "code",
   "execution_count": null,
   "metadata": {},
   "outputs": [],
   "source": [
    "# cluster by ph4 type within main clusters\n",
    "for name, group in cluster_groups:\n",
    "    # need to separate back into ph4 types\n",
    "    # put x/y/z cols of df back into array of coords - NOTE this is a messy way to do things\n",
    "    cluster_donor_points = []\n",
    "    cluster_acceptor_points = []\n",
    "    for x,y,z in zip(group['x'], group['y'], group['z']):\n",
    "        cluster_point = [x,y,z]\n",
    "        if cluster_point in frag_donor_coords:\n",
    "            cluster_donor_points.append(cluster_point)\n",
    "        elif cluster_point in frag_acceptor_coords:\n",
    "            cluster_acceptor_points.append(cluster_point)\n",
    "\n",
    "    print('Number of donor points:', len(cluster_donor_points))\n",
    "    print('Number of acceptor points:', len(cluster_acceptor_points))\n",
    "\n",
    "    # get ph4 types/numbers in query molecule\n",
    "    # get combinations of subpocket (main cluster) points depending on ph4 types in query molecule\n",
    "    # NOTE no permutations in here yet\n",
    "    ph4_combinations = []\n",
    "    for combination1 in itertools.combinations(cluster_donor_points, len(donor_coords)): \n",
    "        for combination2 in itertools.combinations(cluster_acceptor_points, len(acceptor_coords)):\n",
    "            new_comb = np.vstack([combination1, combination2]) # stack arrays of donor and acceptor coords\n",
    "            ph4_combinations.append(new_comb)\n",
    "    print('COMBINATIONS:', len(ph4_combinations)) # check number expected\n",
    "\n",
    "    if len(ph4_combinations) == 0:\n",
    "        print('no valid combinations')\n",
    "    else: \n",
    "        # run kabsch\n",
    "        # TODO store which combination gets which rmsd (can then find best-scoring)\n",
    "\n",
    "        for fr_combination in ph4_combinations:\n",
    "\n",
    "            # NOTE add in permutations here? \n",
    "\n",
    "            qm_means = query_points.mean(0)\n",
    "            rm_means = fr_combination.mean(0)\n",
    "            qm_trans = query_points - qm_means\n",
    "            rm_trans = fr_combination - rm_means\n",
    "\n",
    "            trans_vector =  rm_means # add to revert_translation\n",
    "\n",
    "            #For more speed use scipy.spatial.transform.Rotation.align_vectors. You still need to deal with translation\n",
    "            h = kabsch.compute_covariance_matrix(rm_trans, qm_trans)\n",
    "            r = kabsch.compute_optimal_rotation_matrix(h)\n",
    "            qm_rotated = kabsch.apply_rotation(qm_trans, r)\n",
    "\n",
    "            # qm_reverted, frm_reverted = revert_translation(qm_rotated, frm_trans, qm_means, frm_means)\n",
    "            qm_aligned =  qm_rotated + trans_vector\n",
    "            rmsd_val = kabsch.rmsd(qm_aligned, rm_trans+ trans_vector)\n",
    "\n",
    "        # NOTE return the points from the best combination and plot against query to visualise\n",
    "        # was getting lowest rmsd for each of the clusters, want overall best combination of points (i.e. just one value)\n"
   ]
  },
  {
   "cell_type": "markdown",
   "metadata": {},
   "source": [
    "### 11/5/22 brute force again, changed approach a bit - now using centroids, need to add permutations\n",
    "\n",
    "- get points knowing ph4 type\n",
    "- cluster the ph4 types separately\n",
    "- get centroids for donor and acceptor clusters\n",
    "- use centroids as new set of pocket points\n",
    "- cluster centroids by distance (create subpockets)\n",
    "- within each subpocket, get combinations of points restricted by ph4 types in query molecule\n",
    "- collect all these combinations\n",
    "- run kabsch on the possible combinations\n",
    "- return best alignment (lowest rmsd)"
   ]
  },
  {
   "cell_type": "code",
   "execution_count": 14,
   "metadata": {},
   "outputs": [],
   "source": [
    "import itertools"
   ]
  },
  {
   "cell_type": "code",
   "execution_count": 21,
   "metadata": {},
   "outputs": [
    {
     "name": "stdout",
     "output_type": "stream",
     "text": [
      "4\n",
      "2\n",
      "Number of clusters found: 46\n",
      "Cluster for each point:  [45  3 25 38  5 31  6 24 10 36  8 14  7 30 28  2 39  9 23 34 44 27  3 43\n",
      " 26 33  1 13 35  2  4  0  5  6 37 11  0  9 32  7 17  8 14 41 18 40 15 42\n",
      "  3  7 14  8 16  3 22 29  1 30  4  3 12 10  0 19 21 20  5]\n",
      "Number of clusters found: 23\n",
      "Cluster for each point:  [ 1 16 21 10 13 12 15 22 20 11 19 14  2  4  0  4  1  5 17  3 10  2  9 10\n",
      "  3 18  8 21  6  7  0]\n",
      "            x       y          z ph4_label\n",
      "0    8.306667  2.3820  22.902667     Donor\n",
      "1    8.898000 -5.2885  26.304000     Donor\n",
      "2    8.283000 -2.0990  25.490000     Donor\n",
      "3    6.549800  0.4448  17.680000     Donor\n",
      "4   10.118000 -0.3380  22.752500     Donor\n",
      "..        ...     ...        ...       ...\n",
      "18   2.874000  4.2400  25.229000  Acceptor\n",
      "19   9.210000 -5.5390  26.160000  Acceptor\n",
      "20   5.753000  1.4990  17.784000  Acceptor\n",
      "21   9.177000  1.3325  21.194500  Acceptor\n",
      "22   9.293000 -4.2850  27.794000  Acceptor\n",
      "\n",
      "[69 rows x 4 columns]\n"
     ]
    }
   ],
   "source": [
    "# set up points\n",
    "# query molecule\n",
    "query_donors, query_acceptors, query_aromatic = get_coords_query(query_mols[2])\n",
    "print(len(query_donors))\n",
    "print(len(query_acceptors))\n",
    "query_points = np.concatenate([donor_coords, acceptor_coords]) # just ignore aromatic points for now as we know there are none\n",
    "\n",
    "# fragment points\n",
    "frag_donor_coords\n",
    "frag_acceptor_coords\n",
    "\n",
    "# cluster donor coords and add with labels to df\n",
    "labels = cluster(frag_donor_coords, distance_threshold=1)\n",
    "donor_df = pd.DataFrame([frag_donor_coords[:,0], frag_donor_coords[:,1], frag_donor_coords[:,2], labels])\n",
    "donor_df = donor_df.transpose()\n",
    "donor_df.columns = ['x', 'y', 'z', 'cluster_label']\n",
    "\n",
    "# cluster acceptor coords and add with labels to df\n",
    "labels = cluster(frag_acceptor_coords, distance_threshold=1)\n",
    "acceptor_df = pd.DataFrame([frag_acceptor_coords[:,0], frag_acceptor_coords[:,1], frag_acceptor_coords[:,2], labels])\n",
    "acceptor_df = acceptor_df.transpose()\n",
    "acceptor_df.columns = ['x', 'y', 'z', 'cluster_label']\n",
    "\n",
    "# gives arrays of centroid coordinates for each cluster\n",
    "donor_centroids = np.array(get_centroids(donor_df))\n",
    "donor_centroid_df = pd.DataFrame([donor_centroids[:,0], donor_centroids[:,1], donor_centroids[:,2]]) # no cluster labels\n",
    "donor_centroid_df = donor_centroid_df.transpose()\n",
    "donor_centroid_df.columns = ['x', 'y', 'z']\n",
    "\n",
    "acceptor_centroids = np.array(get_centroids(acceptor_df))\n",
    "acceptor_centroid_df = pd.DataFrame([acceptor_centroids[:,0], acceptor_centroids[:,1], acceptor_centroids[:,2]]) # no cluster labels\n",
    "acceptor_centroid_df = acceptor_centroid_df.transpose()\n",
    "acceptor_centroid_df.columns = ['x', 'y', 'z']\n",
    "\n",
    "# collect all points together as new pocket points\n",
    "# create df with centroid points and labels for which ph4 type, so can separate back out different ph4 types later\n",
    "# NOTE need to make this into function/more flexible\n",
    "for row in donor_centroid_df.iterrows():\n",
    "    donor_centroid_df['ph4_label'] = 'Donor'\n",
    "for row in acceptor_centroid_df.iterrows():\n",
    "    acceptor_centroid_df['ph4_label'] = 'Acceptor'\n",
    "\n",
    "pocket_df = pd.concat([donor_centroid_df, acceptor_centroid_df]) \n",
    "print(pocket_df)"
   ]
  },
  {
   "cell_type": "code",
   "execution_count": 49,
   "metadata": {},
   "outputs": [
    {
     "name": "stdout",
     "output_type": "stream",
     "text": [
      "5.815022269948758\n",
      "Number of clusters found: 5\n",
      "Cluster for each point:  [0 2 2 1 0 0 2 4 4 0 0 0 1 2 4 1 3 0 0 0 1 0 3 0 0 3 1 1 0 2 0 0 0 2 2 2 0\n",
      " 2 3 0 4 4 1 1 2 3 0 3 0 4 0 0 0 1 3 4 4 1 2 4 2 2 2 0 3 2 1 0 2]\n",
      "            x       y          z ph4_label  cluster_label\n",
      "0    8.306667  2.3820  22.902667     Donor              0\n",
      "1    8.898000 -5.2885  26.304000     Donor              2\n",
      "2    8.283000 -2.0990  25.490000     Donor              2\n",
      "3    6.549800  0.4448  17.680000     Donor              1\n",
      "4   10.118000 -0.3380  22.752500     Donor              0\n",
      "..        ...     ...        ...       ...            ...\n",
      "18   2.874000  4.2400  25.229000  Acceptor              0\n",
      "19   9.210000 -5.5390  26.160000  Acceptor              0\n",
      "20   5.753000  1.4990  17.784000  Acceptor              1\n",
      "21   9.177000  1.3325  21.194500  Acceptor              0\n",
      "22   9.293000 -4.2850  27.794000  Acceptor              3\n",
      "\n",
      "[69 rows x 5 columns]\n"
     ]
    }
   ],
   "source": [
    "# cluster pocket_points by distance\n",
    "\n",
    "# get max distance for pairwise points of query molecule\n",
    "pdist_q = scipy.spatial.distance.pdist(query_points, metric='euclidean')\n",
    "max_query_dist = np.max(pdist_q)\n",
    "print(max_query_dist)\n",
    "\n",
    "# get possible subpockets of fragment cloud by clustering, use query max dist as threshold\n",
    "\n",
    "pocket_points = []\n",
    "for x,y,z in zip(pocket_df['x'], pocket_df['y'], pocket_df['z']):\n",
    "        # NOTE bug here, separation in donor/acceptor not adding up properly\n",
    "        pocket_point = [x,y,z]\n",
    "        pocket_points.append(pocket_point)\n",
    "pocket_points = np.array(pocket_points)\n",
    "\n",
    "cluster_labels = cluster(pocket_points, distance_threshold=max_query_dist) # order not lost ?? so use just points in clustering, then append list of labels to existing df with ph4 labels\n",
    "pocket_df['cluster_label'] = pd.Series(cluster_labels) # NOTE should check this works ie stays in order/labels not wrong\n",
    "print(pocket_df)\n"
   ]
  },
  {
   "cell_type": "code",
   "execution_count": 56,
   "metadata": {},
   "outputs": [
    {
     "name": "stdout",
     "output_type": "stream",
     "text": [
      "Acceptor 10\n",
      "Donor 18\n",
      "Acceptor 4\n",
      "Donor 8\n",
      "Acceptor 4\n",
      "Donor 10\n",
      "Acceptor 2\n",
      "Donor 5\n",
      "Acceptor 3\n",
      "Donor 5\n",
      "PERMUTATIONS: 6691200\n"
     ]
    }
   ],
   "source": [
    "# sort back into ph4 types within main clusters (subpockets)\n",
    "ph4_combinations = [] # set up empty list to store fragment point combinations\n",
    "ph4_permutations = []\n",
    "\n",
    "cluster_groups =  pocket_df.groupby('cluster_label')\n",
    "for name, group in cluster_groups:\n",
    "    # need to separate back into ph4 types\n",
    "    # group within clusters by ph4 type\n",
    "    ph4_types = group.groupby('ph4_label')\n",
    "    # get arrays of point coords from each ph4 type\n",
    "    donors = []\n",
    "    acceptors = []\n",
    "    for name, group in ph4_types:\n",
    "        print(name, len(group))  # checked - gives totals of acceptors/donors expected\n",
    "        for x,y,z in zip(group['x'], group['y'], group['z']):\n",
    "            coords = [x,y,z]\n",
    "            if name == 'Donor':\n",
    "                donors.append(coords)\n",
    "            elif name == 'Acceptor':\n",
    "                acceptors.append(coords)\n",
    "\n",
    "    # get possible combinations/permutations within subpocket, restricted by type/numbers of different ph4s in query molecule\n",
    "    # e.g. first query mol has 4 donors, 1 acceptor, so from frag donor points choose 4, from acceptor points choose 1\n",
    "    for permutation in list(itertools.product(itertools.permutations(acceptors, len(query_acceptors)), itertools.permutations(donors, len(query_donors)))):\n",
    "        ph4_permutations.append(permutation) # creates list of lists, need to join into just one\n",
    "\n",
    "\n",
    "#print('COMBINATIONS:', len(ph4_combinations)) # check number expected; 31745\n",
    "print('PERMUTATIONS:', len(ph4_permutations)) # check number expected; "
   ]
  },
  {
   "cell_type": "code",
   "execution_count": 61,
   "metadata": {},
   "outputs": [],
   "source": [
    "for permutation in ph4_permutations[0:10]: # NOTE change from subset of permutations when finalising code\n",
    "\n",
    "    # reformat coords for kabsch (N, 3)\n",
    "    permutation = np.concatenate(permutation)\n",
    "\n",
    "    qm_means = query_points.mean(0)\n",
    "    rm_means = permutation.mean(0)\n",
    "    qm_trans = query_points - qm_means\n",
    "    rm_trans = permutation - rm_means\n",
    "\n",
    "    trans_vector =  rm_means # add to revert_translation\n",
    "\n",
    "    #For more speed use scipy.spatial.transform.Rotation.align_vectors. You still need to deal with translation\n",
    "    h = kabsch.compute_covariance_matrix(rm_trans, qm_trans)\n",
    "    r = kabsch.compute_optimal_rotation_matrix(h)\n",
    "    qm_rotated = kabsch.apply_rotation(qm_trans, r)\n",
    "\n",
    "    # qm_reverted, frm_reverted = revert_translation(qm_rotated, frm_trans, qm_means, frm_means)\n",
    "    qm_aligned =  qm_rotated + trans_vector\n",
    "    rmsd_val = kabsch.rmsd(qm_aligned, rm_trans+ trans_vector)\n",
    "\n"
   ]
  },
  {
   "cell_type": "markdown",
   "metadata": {},
   "source": [
    "### 12/5/22 to do\n",
    "\n",
    "- NOTE return the points from the best combination and plot against query to visualise\n",
    "- return distribution of RMSD values in plot\n",
    "- set up as functions, clean up code\n",
    "- set up so can loop over query molecules (and conformers)\n",
    "- plan out testing mapping fragment to itself (with rotated coords)"
   ]
  },
  {
   "cell_type": "markdown",
   "metadata": {},
   "source": []
  }
 ],
 "metadata": {
  "interpreter": {
   "hash": "6583c3f449b2025ea649b72d4a52efb1871eb538dba3514b6dae43f01b685c61"
  },
  "kernelspec": {
   "display_name": "Python 3.8.8 ('base')",
   "language": "python",
   "name": "python3"
  },
  "language_info": {
   "codemirror_mode": {
    "name": "ipython",
    "version": 3
   },
   "file_extension": ".py",
   "mimetype": "text/x-python",
   "name": "python",
   "nbconvert_exporter": "python",
   "pygments_lexer": "ipython3",
   "version": "3.8.13"
  },
  "orig_nbformat": 4
 },
 "nbformat": 4,
 "nbformat_minor": 2
}
