{
 "cells": [
  {
   "cell_type": "markdown",
   "metadata": {},
   "source": [
    "substructure matching of fragments and query molecules\n",
    "- find inspiration fragments for query molecules (can do on fragalysis)\n",
    "- match query molecules to fragments\n",
    "- check how diverse query molecules are? "
   ]
  },
  {
   "cell_type": "code",
   "execution_count": 2,
   "metadata": {},
   "outputs": [],
   "source": [
    "import os\n",
    "from rdkit import Chem\n",
    "\n",
    "\n",
    "def get_sdfs(dir_name):\n",
    "    \n",
    "    sdf_files = []\n",
    "    filenames = []\n",
    "\n",
    "    # collect sdf files from dirs\n",
    "    for root, dirs, files in os.walk(dir_name):\n",
    "        for file in files:\n",
    "            if file.endswith(\".sdf\"):\n",
    "                # ignore combined sdf file\n",
    "                if 'Mpro_combined' not in file:\n",
    "                    sdf_files.append(os.path.join(root, file))\n",
    "                    filenames.append(file)\n",
    "\n",
    "    return sdf_files, filenames\n",
    "\n",
    "\n",
    "# get mol object for each sdf file\n",
    "\n",
    "def sdf_to_mol(sdf_file_list):\n",
    "   \n",
    "   mols = []\n",
    "   for sdf_file in sdf_file_list:\n",
    "      with Chem.SDMolSupplier(sdf_file) as suppl:\n",
    "         for mol in suppl:\n",
    "            if mol is None: continue\n",
    "            mols.append(mol)\n",
    "\n",
    "   return mols\n"
   ]
  },
  {
   "cell_type": "code",
   "execution_count": 3,
   "metadata": {},
   "outputs": [],
   "source": [
    "fragment_files, frag_filenames = get_sdfs('Mpro_fragments')\n",
    "frag_mols = sdf_to_mol(fragment_files)\n",
    "\n",
    "query_sdfs, query_filenames = get_sdfs('Mpro_all') \n",
    "query_mols = sdf_to_mol(query_sdfs)"
   ]
  },
  {
   "cell_type": "code",
   "execution_count": 31,
   "metadata": {},
   "outputs": [],
   "source": [
    "from rdkit.Chem import rdFMCS\n",
    "import itertools\n",
    "\n",
    "#for mol1, mol2 in itertools.combinations([frag_mols, query_mols], 2):\n",
    "#    mols = [mol1, mol2]\n",
    "#    mcs = rdFMCS.FindMCS(mols)\n",
    "\n",
    "# compare all fragments to each-other\n",
    "for frag1, frag2 in itertools.combinations(frag_mols, 2):\n",
    "    mcs_result = rdFMCS.FindMCS([frag1, frag2])\n",
    "# compare all query molecules to fragments"
   ]
  },
  {
   "cell_type": "code",
   "execution_count": null,
   "metadata": {},
   "outputs": [],
   "source": []
  }
 ],
 "metadata": {
  "interpreter": {
   "hash": "0b249c0ebc18eef5c8852d3d60cd423bde9d1ac14c0fd83fe4c3c8940e027335"
  },
  "kernelspec": {
   "display_name": "Python 3.8.13 ('my-rdkit-env')",
   "language": "python",
   "name": "python3"
  },
  "language_info": {
   "codemirror_mode": {
    "name": "ipython",
    "version": 3
   },
   "file_extension": ".py",
   "mimetype": "text/x-python",
   "name": "python",
   "nbconvert_exporter": "python",
   "pygments_lexer": "ipython3",
   "version": "3.8.13"
  },
  "orig_nbformat": 4
 },
 "nbformat": 4,
 "nbformat_minor": 2
}
